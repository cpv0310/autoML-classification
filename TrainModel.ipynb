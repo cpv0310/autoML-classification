{
 "cells": [
  {
   "cell_type": "code",
   "execution_count": null,
   "id": "56833948-17c3-4795-a843-6262f2d25e2b",
   "metadata": {},
   "outputs": [],
   "source": [
    "import pandas as pd\n",
    "from pycaret import classification"
   ]
  },
  {
   "cell_type": "code",
   "execution_count": null,
   "id": "09ba8f1b-1d00-427c-898a-3faad3493336",
   "metadata": {},
   "outputs": [],
   "source": [
    "train = pd.read_csv(\"data/train.csv\")\n",
    "test = pd.read_csv(\"data/test.csv\")\n",
    "target='Survived'"
   ]
  },
  {
   "cell_type": "code",
   "execution_count": null,
   "id": "4c73e666-0161-41c5-a8b7-608708fbb83c",
   "metadata": {},
   "outputs": [],
   "source": [
    "classification_setup = classification.setup(data=train,target=target)"
   ]
  },
  {
   "cell_type": "code",
   "execution_count": null,
   "id": "330e13a9-df59-44f0-840b-2e9730d0ebb4",
   "metadata": {},
   "outputs": [],
   "source": [
    "best_model=classification.compare_models()"
   ]
  },
  {
   "cell_type": "code",
   "execution_count": null,
   "id": "bdb6a4f7-a224-4ecc-9f95-1887ecfdd76a",
   "metadata": {},
   "outputs": [],
   "source": [
    "# Create model\n",
    "top_model='xgboost'\n",
    "classification_model = classification.create_model(top_model)"
   ]
  },
  {
   "cell_type": "code",
   "execution_count": null,
   "id": "9080422e-45e0-4ecb-9962-a3966dae141d",
   "metadata": {},
   "outputs": [],
   "source": [
    "# Tune the model\n",
    "tuned_model = classification.tune_model(classification_model)"
   ]
  },
  {
   "cell_type": "code",
   "execution_count": null,
   "id": "70429cf7-9c48-4aed-9a0a-e1edb278298d",
   "metadata": {},
   "outputs": [],
   "source": [
    "# Evaluate model\n",
    "classification.evaluate_model(tuned_model)"
   ]
  },
  {
   "cell_type": "code",
   "execution_count": null,
   "id": "5b3958ea-633a-4e3c-af21-fd2f76bc5cc2",
   "metadata": {},
   "outputs": [],
   "source": [
    "# read the test data\n",
    "test_data_classification = test\n",
    "# make predictions\n",
    "predictions = classification.predict_model(tuned_model, data=test_data_classification)\n",
    "# view the predictions\n",
    "predictions"
   ]
  },
  {
   "cell_type": "code",
   "execution_count": null,
   "id": "f454ab2b-aa7d-4ee5-b3e0-ae09a2acbd26",
   "metadata": {},
   "outputs": [],
   "source": [
    "classification.save_model(tuned_model, f\"models/{top_model}\")"
   ]
  }
 ],
 "metadata": {
  "kernelspec": {
   "display_name": "Python 3 (ipykernel)",
   "language": "python",
   "name": "python3"
  },
  "language_info": {
   "codemirror_mode": {
    "name": "ipython",
    "version": 3
   },
   "file_extension": ".py",
   "mimetype": "text/x-python",
   "name": "python",
   "nbconvert_exporter": "python",
   "pygments_lexer": "ipython3",
   "version": "3.9.11"
  }
 },
 "nbformat": 4,
 "nbformat_minor": 5
}
